
print('\nWelcome to our quiz!')
print('You have 3 lives.')
print('-------')

#réponse 1

bad_message = 'Too bad! That is not the correct answer'

count = 3

reponse_1=input('\n**Question 1 : Combien font 1+1 ? ').lower()
reponse_1=str(reponse_1)
#input retourne un string => pour convertir en nombre, on redéclare la variable en integer : int()
print('\nVotre réponse :', reponse_1)

bonne_R = str("2")

while reponse_1 != bonne_R:

    if bad_message != bonne_R:
        print(bad_message)
        count -= 1
        print("Il vous reste ",count,"vies")
    if count == 0:
        print("\nVous n'avez plus de vies, c'est perdu !")
        break
    reponse_1 = input('\n**Combien font 1+1 ? ')
    reponse_1 = int(reponse_1)

else:
    print('Good job! This is the right answer')

#réponse 2

if count != 0:
    reponse_2=input("\n**Question 2 : Quel est le nom du président français ? ").lower()
    print('\nVotre réponse :', reponse_2.upper())

    bonne_R2 = "macron"

    while reponse_2 != bonne_R2:
        if bad_message != bonne_R2:
            print(bad_message)
            count -= 1
            print("Il vous reste ", count, "vies")
        if count == 0:
            print("\nVous n'avez plus de vies, c'est perdu !")
            break
        reponse_2 = input("\n**Quel est le nom du président français ? ").lower()
        print('\nVotre réponse :', reponse_2.upper())
    else:
        print('Good job! This is the right answer')

#réponse 3
if count != 0:
    reponse_3=input("\n**Question 3 : Quel est le premier jour de la semaine ? ").lower()
    print('\nVotre réponse :' , reponse_3.upper())

    bonne_R3 = "lundi"

    while reponse_3 != bonne_R3:
        if bad_message != bonne_R3:
            print(bad_message)
            count -= 1
            print("Il vous reste ", count, "vies")
        if count == 0:
            print("\nVous n'avez plus de vies, c'est perdu !")
            break
        reponse_3 = input("\n**Quel est le premier jour de la semaine ? ").lower()
        print('\nVotre réponse :', reponse_3.upper())
    else:
        print('Good job! This is the right answer')

    print("\n--- Bien joué, c'est fini pour la partie 1 ---")


#manque : partie gestion erreur x3 (compteur) + description fonction
